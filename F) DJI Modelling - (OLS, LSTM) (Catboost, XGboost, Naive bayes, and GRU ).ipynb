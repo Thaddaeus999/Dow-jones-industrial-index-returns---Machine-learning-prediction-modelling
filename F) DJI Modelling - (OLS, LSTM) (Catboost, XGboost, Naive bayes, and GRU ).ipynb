{
 "cells": [
  {
   "cell_type": "markdown",
   "id": "1f5f7a53",
   "metadata": {},
   "source": [
    "# F) DJI Modelling: - (OLS, LSTM) --> (Catboost, XGboost, Naive bayes, and GRU )"
   ]
  },
  {
   "cell_type": "markdown",
   "id": "9a33fc97",
   "metadata": {},
   "source": [
    "### Loading packages"
   ]
  },
  {
   "cell_type": "code",
   "execution_count": 1,
   "id": "34050a7a",
   "metadata": {},
   "outputs": [],
   "source": [
    "#imports\n",
    "import yfinance as yf\n",
    "import numpy as np\n",
    "import pandas as pd\n",
    "import os\n",
    "import exchange_calendars as xcals\n",
    "import matplotlib.pyplot as plt\n",
    "import seaborn as sns\n",
    "from statsmodels.tsa.seasonal import seasonal_decompose\n",
    "from sklearn.preprocessing import MinMaxScaler, StandardScaler\n",
    "from sklearn.decomposition import PCA\n",
    "from sklearn.model_selection import train_test_split, TimeSeriesSplit\n",
    "from sklearn.linear_model import LinearRegression, Ridge\n",
    "from sklearn.metrics import mean_squared_error, mean_absolute_error, r2_score\n",
    "from scipy.stats import zscore\n",
    "from scipy.stats.mstats import winsorize\n",
    "from statsmodels.stats.outliers_influence import variance_inflation_factor\n",
    "from sklearn.ensemble import RandomForestRegressor\n",
    "from sklearn.feature_selection import RFE\n",
    "from tensorflow.keras.models import Sequential\n",
    "from tensorflow.keras.layers import LSTM, Dense, Dropout\n",
    "from tensorflow.keras.optimizers import Adam\n",
    "from itertools import product\n",
    "from bayes_opt import BayesianOptimization"
   ]
  },
  {
   "cell_type": "markdown",
   "id": "45996cdf",
   "metadata": {},
   "source": [
    "### Loading data"
   ]
  },
  {
   "cell_type": "code",
   "execution_count": 2,
   "id": "b24c7e44",
   "metadata": {},
   "outputs": [],
   "source": [
    "base_path = \"C:\\\\Users\\\\tgsog\\\\OneDrive\\\\Desktop\\\\DowJones_ML_project\\\\DataFiles\\\\E) Feature selected data\\\\\"\n",
    "ols_path =base_path+\"1. OLS data\\\\\"\n",
    "lstm_path = base_path+\"2. LSTM\\\\\"\n",
    "gru_path= base_path + \"3. Gradiant data\\\\\"\n",
    "nb_path = base_path+\"3. Naive bayes data\\\\\"\n",
    "xg_path = base_path+\"3. xgboost data\\\\\"\n",
    "cat_path = base_path+\"3. catboost data\\\\\" "
   ]
  },
  {
   "cell_type": "code",
   "execution_count": 3,
   "id": "b021aefd",
   "metadata": {},
   "outputs": [],
   "source": [
    "#MAking bulkloader function\n",
    "def bulk_load_files(path, name_prefix=None):\n",
    "    import pandas as pd\n",
    "    import glob\n",
    "    import os\n",
    "\n",
    "    csv_files = glob.glob(os.path.join(path, \"*.csv\"))\n",
    "\n",
    "    dataframes = {}\n",
    "    for file in csv_files:\n",
    "        key = os.path.basename(file).replace(\".csv\", \"\")\n",
    "        if name_prefix:\n",
    "            key = f\"{name_prefix}_{key}\"\n",
    "        dataframes[key] = pd.read_csv(file)\n",
    "\n",
    "    return dataframes"
   ]
  },
  {
   "cell_type": "code",
   "execution_count": 4,
   "id": "d9a617bb",
   "metadata": {},
   "outputs": [],
   "source": [
    "ols_dfs = bulk_load_files(ols_path, name_prefix=None)\n",
    "lstm_dfs = bulk_load_files(lstm_path, name_prefix=None)\n",
    "gru_dfs = bulk_load_files(gru_path, name_prefix=None)\n",
    "nb_dfs = bulk_load_files(nb_path, name_prefix=None)\n",
    "xg_dfs = bulk_load_files(xg_path, name_prefix=None)\n",
    "cat_dfs = bulk_load_files(cat_path, name_prefix=None)\n",
    "\n",
    "dfs_list = [ols_dfs,lstm_dfs,gru_dfs,nb_dfs,xg_dfs,cat_dfs]"
   ]
  },
  {
   "cell_type": "code",
   "execution_count": 6,
   "id": "e25af8b9",
   "metadata": {},
   "outputs": [],
   "source": [
    "# Store all your dataset dictionaries in a master dict with model tags\n",
    "all_dfs = {\n",
    "    \"ols\": ols_dfs,\n",
    "    \"lstm\": lstm_dfs,\n",
    "    \"gru\": gru_dfs,\n",
    "    \"nb\": nb_dfs,\n",
    "    \"xg\": xg_dfs,\n",
    "    \"cat\": cat_dfs\n",
    "}\n",
    "\n",
    "# Create a list to keep track of created variable names\n",
    "all_loaded_variables = []\n",
    "\n",
    "# Loop through each dictionary and assign variables dynamically\n",
    "for model_name, model_dfs in all_dfs.items():\n",
    "    for key, df in model_dfs.items():\n",
    "        # This assumes keys are already named like \"X_train_ols\", etc.\n",
    "        globals()[key] = df\n",
    "        all_loaded_variables.append(key)\n"
   ]
  },
  {
   "cell_type": "code",
   "execution_count": 7,
   "id": "04880edf",
   "metadata": {},
   "outputs": [
    {
     "data": {
      "text/plain": [
       "['X_test_ols1',\n",
       " 'X_test_ols2',\n",
       " 'X_test_ols3',\n",
       " 'X_train_ols1',\n",
       " 'X_train_ols2',\n",
       " 'X_train_ols3',\n",
       " 'y_test_ols',\n",
       " 'y_train_ols',\n",
       " 'X_test_lstm1',\n",
       " 'X_test_lstm2',\n",
       " 'X_train_lstm1',\n",
       " 'X_train_lstm2',\n",
       " 'y_test_lstm',\n",
       " 'y_train_lstm',\n",
       " 'X_test_gru',\n",
       " 'X_train_gru',\n",
       " 'y_test_gru',\n",
       " 'y_train_gru',\n",
       " 'X_test_nb',\n",
       " 'X_train_nb',\n",
       " 'y_test_nb',\n",
       " 'y_train_nb',\n",
       " 'X_test_xg',\n",
       " 'X_train_xg',\n",
       " 'y_test_xg',\n",
       " 'y_train_xg',\n",
       " 'X_test_cat',\n",
       " 'X_train_cat',\n",
       " 'y_test_cat',\n",
       " 'y_train_cat']"
      ]
     },
     "execution_count": 7,
     "metadata": {},
     "output_type": "execute_result"
    }
   ],
   "source": [
    "all_loaded_variables"
   ]
  },
  {
   "cell_type": "markdown",
   "id": "f19c7a51",
   "metadata": {},
   "source": [
    "### Loss function calculation "
   ]
  },
  {
   "cell_type": "code",
   "execution_count": 8,
   "id": "9a24964b",
   "metadata": {},
   "outputs": [],
   "source": [
    "def calculate_loss_metrics(y_true, y_pred):\n",
    "    mse = mean_squared_error(y_true, y_pred)\n",
    "    rmse = np.sqrt(mse)\n",
    "    mae = mean_absolute_error(y_true, y_pred)\n",
    "    mape = np.mean(np.abs((y_true - y_pred) / y_true)) * 100  # Mean Absolute Percentage Error\n",
    "    r2 = r2_score(y_true, y_pred)\n",
    "    return mse, rmse, mae, mape, r2"
   ]
  },
  {
   "cell_type": "markdown",
   "id": "3c8820fe",
   "metadata": {},
   "source": [
    "### OLS function"
   ]
  },
  {
   "cell_type": "code",
   "execution_count": 9,
   "id": "5cce6e90",
   "metadata": {},
   "outputs": [],
   "source": [
    "#OLS func\n",
    "def ols_func(X_train, X_test, y_train):\n",
    "    import statsmodels.api as sm\n",
    "\n",
    "    # Add a constant to the independent variables (X)\n",
    "    X_train_const = sm.add_constant(X_train)\n",
    "    X_test_const = sm.add_constant(X_test)\n",
    "\n",
    "    # Fit the OLS model\n",
    "    model = sm.OLS(y_train, X_train_const).fit()\n",
    "\n",
    "    # Predict on the test set\n",
    "    y_pred = model.predict(X_test_const)\n",
    "\n",
    "    # Optionally print the summary\n",
    "    return model, model.summary(),y_pred\n"
   ]
  },
  {
   "cell_type": "markdown",
   "id": "b0305379",
   "metadata": {},
   "source": [
    "#### OLS robustness test functions:"
   ]
  },
  {
   "cell_type": "code",
   "execution_count": 10,
   "id": "0b3961e5",
   "metadata": {},
   "outputs": [],
   "source": [
    "def hetero_sed(model):\n",
    "    import statsmodels.api as sm\n",
    "    import statsmodels.stats.api as sms\n",
    "    bp_test = sms.het_breuschpagan(model.resid, model.model.exog)\n",
    "    bp_labels = ['Lagrange multiplier stat', 'p-value', 'f-value', 'f p-value']\n",
    "    results = dict(zip(bp_labels, bp_test))\n",
    "    return results\n",
    "\n",
    "def shapiro(model):\n",
    "    from scipy.stats import shapiro, jarque_bera\n",
    "    jb_stat, jb_pvalue = jarque_bera(model.resid)\n",
    "    shapiro_stat, shapiro_pvalue = shapiro(model.resid)\n",
    "    return shapiro_stat, shapiro_pvalue\n",
    "\n",
    "def vif_rob(X_train):\n",
    "    from statsmodels.stats.outliers_influence import variance_inflation_factor\n",
    "    import statsmodels.api as sm\n",
    "    vif_data = sm.add_constant(X_train)\n",
    "    vif = pd.DataFrame()\n",
    "    vif[\"Variable\"] = vif_data.columns\n",
    "    vif[\"VIF\"] = [variance_inflation_factor(vif_data.values, i) for i in range(vif_data.shape[1])]\n",
    "    return vif\n",
    "\n",
    "def drub_watson(model):\n",
    "    import statsmodels.api as sm\n",
    "    dw = sm.stats.durbin_watson(model.resid)\n",
    "    return dw\n",
    "\n",
    "\n",
    "#Breusch-Pagan p-value < 0.05 ⇒ Heteroscedasticity is present.\n",
    "#Normality p-values < 0.05 ⇒ Residuals are not normally distributed.\n",
    "#VIF > 5 or 10 ⇒ Multicollinearity might be an issue.\n",
    "#Durbin-Watson ~2 ⇒ No autocorrelation; <2 suggests positive autocorr."
   ]
  },
  {
   "cell_type": "markdown",
   "id": "f8dc7ff1",
   "metadata": {},
   "source": [
    "### LSTM function"
   ]
  },
  {
   "cell_type": "code",
   "execution_count": null,
   "id": "e161558a",
   "metadata": {},
   "outputs": [],
   "source": [
    "def lstm_func(X_train, X_test, y_train, y_test):\n",
    "    import numpy as np\n",
    "    from tensorflow.keras.models import Sequential\n",
    "    from tensorflow.keras.layers import LSTM, Dense\n",
    "    from tensorflow.keras.optimizers import Adam\n",
    "\n",
    "    # Convert to NumPy arrays (if they are DataFrames)\n",
    "    X_train = np.array(X_train)\n",
    "    X_test = np.array(X_test)\n",
    "    y_train = np.array(y_train)\n",
    "    y_test = np.array(y_test)\n",
    "\n",
    "    # Automatically reshape if input is 2D\n",
    "    if len(X_train.shape) == 2:\n",
    "        X_train = X_train.reshape((X_train.shape[0], 1, X_train.shape[1]))\n",
    "        X_test = X_test.reshape((X_test.shape[0], 1, X_test.shape[1]))\n",
    "\n",
    "    # Build the LSTM model\n",
    "    model = Sequential()\n",
    "    model.add(LSTM(50, activation='relu', input_shape=(X_train.shape[1], X_train.shape[2])))\n",
    "    model.add(Dense(1))\n",
    "\n",
    "    model.compile(optimizer=Adam(learning_rate=0.001), loss='mse')\n",
    "\n",
    "    # Print model summary\n",
    "    model.summary()\n",
    "\n",
    "    # Train the model\n",
    "    history = model.fit(X_train, y_train, epochs=20, batch_size=32, validation_data=(X_test, y_test), verbose=1)\n",
    "\n",
    "    # Make predictions\n",
    "    y_pred = model.predict(X_test)\n",
    "\n",
    "    return model, y_pred"
   ]
  },
  {
   "cell_type": "markdown",
   "id": "36989fad",
   "metadata": {},
   "source": [
    "### Catboost function"
   ]
  },
  {
   "cell_type": "code",
   "execution_count": 82,
   "id": "e9d10574",
   "metadata": {},
   "outputs": [],
   "source": [
    "def cat_boost_func(X_train, X_test, y_train):\n",
    "    import pandas as pd\n",
    "    from catboost import CatBoostClassifier\n",
    "\n",
    "    # Initialize CatBoost Classifier\n",
    "    model = CatBoostClassifier(\n",
    "        iterations=500,\n",
    "        learning_rate=0.05,\n",
    "        depth=6,\n",
    "        loss_function='Logloss',  # for binary classification\n",
    "        verbose=100\n",
    "    )\n",
    "\n",
    "    # Train the model\n",
    "    model.fit(X_train, y_train)\n",
    "\n",
    "    # Predict class labels (0 or 1)\n",
    "    y_pred = pd.DataFrame(model.predict(X_test), columns=['Predicted'])\n",
    "\n",
    "    # Optional: get predicted probabilities\n",
    "    # y_proba = pd.DataFrame(model.predict_proba(X_test)[:, 1], columns=['Prob_1'])\n",
    "\n",
    "    return model, y_pred\n"
   ]
  },
  {
   "cell_type": "markdown",
   "id": "566fc1ea",
   "metadata": {},
   "source": [
    "### XGboost"
   ]
  },
  {
   "cell_type": "code",
   "execution_count": 89,
   "id": "6c690b9d",
   "metadata": {},
   "outputs": [],
   "source": [
    "def XG_boost_func(X_train, X_test, y_train):\n",
    "    import pandas as pd\n",
    "    from xgboost import XGBClassifier\n",
    "\n",
    "    # Initialize XGBoost Classifier\n",
    "    model = XGBClassifier(\n",
    "        n_estimators=500,\n",
    "        learning_rate=0.05,\n",
    "        max_depth=6,\n",
    "        objective='binary:logistic',  # Binary classification objective\n",
    "        use_label_encoder=False,\n",
    "        eval_metric='logloss',\n",
    "        verbosity=1\n",
    "    )\n",
    "\n",
    "    # Train the model\n",
    "    model.fit(X_train, y_train)\n",
    "\n",
    "    # Predict class labels (0 or 1)\n",
    "    y_pred = pd.DataFrame(model.predict(X_test), columns=['Predicted'])\n",
    "\n",
    "    # Optional: Get predicted probabilities\n",
    "    # y_proba = pd.DataFrame(model.predict_proba(X_test)[:, 1], columns=['Prob_1'])\n",
    "\n",
    "    return model, y_pred\n"
   ]
  },
  {
   "cell_type": "markdown",
   "id": "c441ad15",
   "metadata": {},
   "source": [
    "### GRU"
   ]
  },
  {
   "cell_type": "code",
   "execution_count": 94,
   "id": "0ed5f673",
   "metadata": {},
   "outputs": [],
   "source": [
    "def gru_func(X_train, X_test, y_train, y_test):\n",
    "    import numpy as np\n",
    "    import pandas as pd\n",
    "    from tensorflow.keras.models import Sequential\n",
    "    from tensorflow.keras.layers import GRU, Dense\n",
    "    from tensorflow.keras.optimizers import Adam\n",
    "    from tensorflow.keras.losses import BinaryCrossentropy\n",
    "\n",
    "    # Ensure data is in NumPy array format\n",
    "    X_train = np.array(X_train)\n",
    "    X_test = np.array(X_test)\n",
    "    y_train = np.array(y_train)\n",
    "    y_test = np.array(y_test)\n",
    "\n",
    "    # Reshape to 3D if 2D\n",
    "    if len(X_train.shape) == 2:\n",
    "        X_train = X_train.reshape((X_train.shape[0], 1, X_train.shape[1]))\n",
    "        X_test = X_test.reshape((X_test.shape[0], 1, X_test.shape[1]))\n",
    "\n",
    "    # Build GRU model for binary classification\n",
    "    gru_model = Sequential()\n",
    "    gru_model.add(GRU(50, activation='relu', input_shape=(X_train.shape[1], X_train.shape[2])))\n",
    "    gru_model.add(Dense(1, activation='sigmoid'))  # sigmoid for binary output\n",
    "\n",
    "    # Compile with binary crossentropy\n",
    "    gru_model.compile(optimizer=Adam(learning_rate=0.001), loss=BinaryCrossentropy(), metrics=['accuracy'])\n",
    "\n",
    "    # Print model summary\n",
    "    gru_model.summary()\n",
    "\n",
    "    # Train the model\n",
    "    gru_model.fit(X_train, y_train, epochs=20, batch_size=32, validation_data=(X_test, y_test), verbose=1)\n",
    "\n",
    "    # Predict probabilities\n",
    "    y_proba = gru_model.predict(X_test)\n",
    "\n",
    "    # Convert to class predictions (0 or 1)\n",
    "    y_pred = pd.DataFrame((y_proba > 0.5).astype(int), columns=['Predicted'])\n",
    "\n",
    "    return gru_model, y_pred\n",
    "\n"
   ]
  },
  {
   "cell_type": "markdown",
   "id": "f79775b0",
   "metadata": {},
   "source": [
    "### Naive bayes function"
   ]
  },
  {
   "cell_type": "code",
   "execution_count": 74,
   "id": "f29610e1",
   "metadata": {},
   "outputs": [],
   "source": [
    "def naive_bayes_func(X_train,X_test,y_train):\n",
    "    from sklearn.naive_bayes import GaussianNB\n",
    "\n",
    "    # Initialize the model\n",
    "    nb_model = GaussianNB()\n",
    "\n",
    "    # Train the model\n",
    "    nb_model.fit(X_train, y_train)\n",
    "\n",
    "    # Predict on test set\n",
    "    y_pred = pd.DataFrame(nb_model.predict(X_test))\n",
    "\n",
    "    return nb_model,y_pred\n",
    "\n"
   ]
  },
  {
   "cell_type": "markdown",
   "id": "bb35f649",
   "metadata": {},
   "source": [
    "### Confusion matrix plot"
   ]
  },
  {
   "cell_type": "code",
   "execution_count": null,
   "id": "7866cc3b",
   "metadata": {},
   "outputs": [],
   "source": [
    "\n",
    "\n",
    "def plot_binary_confusion_matrix(y_true, y_pred, normalize=False):\n",
    "    import matplotlib.pyplot as plt\n",
    "    import seaborn as sns\n",
    "    from sklearn.metrics import confusion_matrix\n",
    "    import numpy as np\n",
    "    labels = ['Negative', 'Positive']\n",
    "    cm = confusion_matrix(y_true, y_pred)\n",
    "    \n",
    "    if cm.shape != (2, 2):\n",
    "        raise ValueError(\"This function only supports binary classification (2 classes).\")\n",
    "\n",
    "    if normalize:\n",
    "        cm = cm.astype('float') / cm.sum(axis=1)[:, np.newaxis]\n",
    "        fmt = '.2f'\n",
    "    else:\n",
    "        fmt = 'd'\n",
    "\n",
    "    # Create custom annotations\n",
    "    group_names = ['True Neg', 'False Pos', 'False Neg', 'True Pos']\n",
    "    counts = [f\"{value:.2f}\" if normalize else f\"{value}\" for value in cm.flatten()]\n",
    "    labels_combined = [f\"{name}\\n{count}\" for name, count in zip(group_names, counts)]\n",
    "    labels_matrix = np.asarray(labels_combined).reshape(2, 2)\n",
    "\n",
    "    # Plot heatmap\n",
    "    plt.figure(figsize=(6, 5))\n",
    "    sns.heatmap(cm, annot=labels_matrix, fmt='', cmap='Blues',\n",
    "                xticklabels=labels, yticklabels=labels, square=True, cbar=True)\n",
    "    plt.xlabel('Predicted')\n",
    "    plt.ylabel('Actual')\n",
    "    plt.title('Confusion Matrix (Binary Classification)')\n",
    "    plt.tight_layout()\n",
    "    plt.show()\n"
   ]
  },
  {
   "cell_type": "markdown",
   "id": "bf76d7c0",
   "metadata": {},
   "source": [
    "## OLS Modells"
   ]
  },
  {
   "cell_type": "markdown",
   "id": "9184a692",
   "metadata": {},
   "source": [
    "### OLS 1"
   ]
  },
  {
   "cell_type": "code",
   "execution_count": 17,
   "id": "bcb1e4bd",
   "metadata": {},
   "outputs": [
    {
     "data": {
      "text/plain": [
       "0.10277678935853554"
      ]
     },
     "execution_count": 17,
     "metadata": {},
     "output_type": "execute_result"
    }
   ],
   "source": [
    "ols_model1, model1_sum, y_pred_ols1 = ols_func(X_train_ols1, X_test_ols1, y_train_ols)\n",
    "ols1_mse, ols1_rsme, ols1_mae,ols1_mape,ols1_r2=calculate_loss_metrics(y_test_ols, y_pred_ols1)\n",
    "ols1_mse"
   ]
  },
  {
   "cell_type": "markdown",
   "id": "9b196cde",
   "metadata": {},
   "source": [
    "### OLS 2"
   ]
  },
  {
   "cell_type": "code",
   "execution_count": 18,
   "id": "f0c319b2",
   "metadata": {},
   "outputs": [
    {
     "data": {
      "text/plain": [
       "1.9706768600259656"
      ]
     },
     "execution_count": 18,
     "metadata": {},
     "output_type": "execute_result"
    }
   ],
   "source": [
    "ols_model2, model2_sum, y_pred_ols2 = ols_func(X_train_ols2, X_test_ols2, y_train_ols)\n",
    "ols2_mse, ols2_rsme, ols2_mae,ols2_mape,ols2_r2=calculate_loss_metrics(y_test_ols, y_pred_ols2)\n",
    "ols2_mse"
   ]
  },
  {
   "cell_type": "markdown",
   "id": "3a2405e2",
   "metadata": {},
   "source": [
    "### OLS 3"
   ]
  },
  {
   "cell_type": "code",
   "execution_count": 19,
   "id": "53526d78",
   "metadata": {},
   "outputs": [
    {
     "data": {
      "text/plain": [
       "2.226188587438508"
      ]
     },
     "execution_count": 19,
     "metadata": {},
     "output_type": "execute_result"
    }
   ],
   "source": [
    "ols_model3, model3_sum, y_pred_ols3 = ols_func(X_train_ols3, X_test_ols3, y_train_ols)\n",
    "ols3_mse, ols3_rsme, ols3_mae,ols3_mape,ols3_r2=calculate_loss_metrics(y_test_ols, y_pred_ols3)\n",
    "ols3_mse"
   ]
  },
  {
   "cell_type": "markdown",
   "id": "d1f0f37b",
   "metadata": {},
   "source": [
    "### OLS comparison"
   ]
  },
  {
   "cell_type": "code",
   "execution_count": 20,
   "id": "b54d0e9f",
   "metadata": {},
   "outputs": [],
   "source": [
    "ols_comp_df = pd.DataFrame({\"mse\":[ols1_mse,ols2_mse,ols3_mse],\"rmse\":[ols1_rsme,ols2_rsme,ols3_rsme], \"mae\":[ols1_mae,ols2_mae,ols3_mae], \"mape\":[ols1_mape,ols2_mape,ols3_mape], \"r^2\":[ols1_r2,ols2_r2,ols3_r2]})"
   ]
  },
  {
   "cell_type": "code",
   "execution_count": 21,
   "id": "d6bd1c1d",
   "metadata": {},
   "outputs": [
    {
     "data": {
      "application/vnd.microsoft.datawrangler.viewer.v0+json": {
       "columns": [
        {
         "name": "index",
         "rawType": "int64",
         "type": "integer"
        },
        {
         "name": "mse",
         "rawType": "float64",
         "type": "float"
        },
        {
         "name": "rmse",
         "rawType": "float64",
         "type": "float"
        },
        {
         "name": "mae",
         "rawType": "float64",
         "type": "float"
        },
        {
         "name": "mape",
         "rawType": "float64",
         "type": "float"
        },
        {
         "name": "r^2",
         "rawType": "float64",
         "type": "float"
        }
       ],
       "conversionMethod": "pd.DataFrame",
       "ref": "ef80335a-03dc-4b0e-a30f-d3df33a28f05",
       "rows": [
        [
         "0",
         "0.10277678935853554",
         "0.32058819279339584",
         "0.2658114204258117",
         null,
         "0.92762478041695"
        ],
        [
         "1",
         "1.9706768600259656",
         "1.4038079854545513",
         "1.131421962293943",
         null,
         "-0.3877468965688178"
        ],
        [
         "2",
         "2.226188587438508",
         "1.4920417512383854",
         "1.0720360964851403",
         null,
         "-0.5676777690250059"
        ]
       ],
       "shape": {
        "columns": 5,
        "rows": 3
       }
      },
      "text/html": [
       "<div>\n",
       "<style scoped>\n",
       "    .dataframe tbody tr th:only-of-type {\n",
       "        vertical-align: middle;\n",
       "    }\n",
       "\n",
       "    .dataframe tbody tr th {\n",
       "        vertical-align: top;\n",
       "    }\n",
       "\n",
       "    .dataframe thead th {\n",
       "        text-align: right;\n",
       "    }\n",
       "</style>\n",
       "<table border=\"1\" class=\"dataframe\">\n",
       "  <thead>\n",
       "    <tr style=\"text-align: right;\">\n",
       "      <th></th>\n",
       "      <th>mse</th>\n",
       "      <th>rmse</th>\n",
       "      <th>mae</th>\n",
       "      <th>mape</th>\n",
       "      <th>r^2</th>\n",
       "    </tr>\n",
       "  </thead>\n",
       "  <tbody>\n",
       "    <tr>\n",
       "      <th>0</th>\n",
       "      <td>0.102777</td>\n",
       "      <td>0.320588</td>\n",
       "      <td>0.265811</td>\n",
       "      <td>NaN</td>\n",
       "      <td>0.927625</td>\n",
       "    </tr>\n",
       "    <tr>\n",
       "      <th>1</th>\n",
       "      <td>1.970677</td>\n",
       "      <td>1.403808</td>\n",
       "      <td>1.131422</td>\n",
       "      <td>NaN</td>\n",
       "      <td>-0.387747</td>\n",
       "    </tr>\n",
       "    <tr>\n",
       "      <th>2</th>\n",
       "      <td>2.226189</td>\n",
       "      <td>1.492042</td>\n",
       "      <td>1.072036</td>\n",
       "      <td>NaN</td>\n",
       "      <td>-0.567678</td>\n",
       "    </tr>\n",
       "  </tbody>\n",
       "</table>\n",
       "</div>"
      ],
      "text/plain": [
       "        mse      rmse       mae  mape       r^2\n",
       "0  0.102777  0.320588  0.265811   NaN  0.927625\n",
       "1  1.970677  1.403808  1.131422   NaN -0.387747\n",
       "2  2.226189  1.492042  1.072036   NaN -0.567678"
      ]
     },
     "execution_count": 21,
     "metadata": {},
     "output_type": "execute_result"
    }
   ],
   "source": [
    "ols_comp_df"
   ]
  },
  {
   "cell_type": "markdown",
   "id": "11af7761",
   "metadata": {},
   "source": [
    "### OLS robustness"
   ]
  },
  {
   "cell_type": "code",
   "execution_count": 22,
   "id": "a14dc69f",
   "metadata": {},
   "outputs": [
    {
     "name": "stdout",
     "output_type": "stream",
     "text": [
      "Robustness tests:\n",
      "1. The p-value, is 0.1: if it is smaller than 0.05 then there is heteroscedasticity.\n",
      "2. Shapiro p-value is 0.42: if the p-value is smaller than 0.05 then there is not a normal distribution.\n",
      "3. There are about 7 variables in model 1 that is suffering from multicolinearity.\n",
      "4. The drub_watson score is 1.831449029008882: if it is smaller than 2 then it suggest positive autocorrelation.\n"
     ]
    }
   ],
   "source": [
    "#Heterosced\n",
    "ols1_model_hetero = hetero_sed(ols_model1)\n",
    "ols1_pval =round(ols1_model_hetero[\"p-value\"],2)\n",
    "print(f\"Robustness tests:\\n1. The p-value, is {ols1_pval}: if it is smaller than 0.05 then there is heteroscedasticity.\")\n",
    "\n",
    "#normality\n",
    "ols1_score, ols1_pval=shapiro(ols_model1)\n",
    "print(f\"2. Shapiro p-value is {round(ols1_pval,2)}: if the p-value is smaller than 0.05 then there is not a normal distribution.\")\n",
    "\n",
    "#VIF\n",
    "ols1_vif = vif_rob(X_train_ols1)\n",
    "num_mult = len(ols1_vif[ols1_vif.VIF>10])\n",
    "print(f\"3. There are about {num_mult} variables in model 1 that is suffering from multicolinearity.\")\n",
    "\n",
    "#drub_watson\n",
    "ols1_dw = drub_watson(ols_model1)\n",
    "print(f\"4. The drub_watson score is {ols1_dw}: if it is smaller than 2 then it suggest positive autocorrelation.\")"
   ]
  },
  {
   "cell_type": "markdown",
   "id": "4a0c4cf3",
   "metadata": {},
   "source": [
    "## LSTM Models:"
   ]
  },
  {
   "cell_type": "markdown",
   "id": "e145afc2",
   "metadata": {},
   "source": [
    "### LSTM model 1"
   ]
  },
  {
   "cell_type": "code",
   "execution_count": 34,
   "id": "bde71183",
   "metadata": {},
   "outputs": [
    {
     "name": "stdout",
     "output_type": "stream",
     "text": [
      "Model: \"sequential_2\"\n",
      "_________________________________________________________________\n",
      " Layer (type)                Output Shape              Param #   \n",
      "=================================================================\n",
      " lstm_1 (LSTM)               (None, 50)                34800     \n",
      "                                                                 \n",
      " dense_1 (Dense)             (None, 1)                 51        \n",
      "                                                                 \n",
      "=================================================================\n",
      "Total params: 34,851\n",
      "Trainable params: 34,851\n",
      "Non-trainable params: 0\n",
      "_________________________________________________________________\n",
      "Epoch 1/20\n",
      "9/9 [==============================] - 1s 52ms/step - loss: 0.2101 - val_loss: 0.1958\n",
      "Epoch 2/20\n",
      "9/9 [==============================] - 0s 9ms/step - loss: 0.1689 - val_loss: 0.1661\n",
      "Epoch 3/20\n",
      "9/9 [==============================] - 0s 8ms/step - loss: 0.1353 - val_loss: 0.1394\n",
      "Epoch 4/20\n",
      "9/9 [==============================] - 0s 9ms/step - loss: 0.1066 - val_loss: 0.1155\n",
      "Epoch 5/20\n",
      "9/9 [==============================] - 0s 9ms/step - loss: 0.0819 - val_loss: 0.0969\n",
      "Epoch 6/20\n",
      "9/9 [==============================] - 0s 9ms/step - loss: 0.0617 - val_loss: 0.0798\n",
      "Epoch 7/20\n",
      "9/9 [==============================] - 0s 10ms/step - loss: 0.0448 - val_loss: 0.0652\n",
      "Epoch 8/20\n",
      "9/9 [==============================] - 0s 9ms/step - loss: 0.0321 - val_loss: 0.0528\n",
      "Epoch 9/20\n",
      "9/9 [==============================] - 0s 9ms/step - loss: 0.0223 - val_loss: 0.0439\n",
      "Epoch 10/20\n",
      "9/9 [==============================] - 0s 9ms/step - loss: 0.0154 - val_loss: 0.0370\n",
      "Epoch 11/20\n",
      "9/9 [==============================] - 0s 9ms/step - loss: 0.0109 - val_loss: 0.0318\n",
      "Epoch 12/20\n",
      "9/9 [==============================] - 0s 9ms/step - loss: 0.0077 - val_loss: 0.0284\n",
      "Epoch 13/20\n",
      "9/9 [==============================] - 0s 9ms/step - loss: 0.0059 - val_loss: 0.0261\n",
      "Epoch 14/20\n",
      "9/9 [==============================] - 0s 10ms/step - loss: 0.0047 - val_loss: 0.0245\n",
      "Epoch 15/20\n",
      "9/9 [==============================] - 0s 11ms/step - loss: 0.0039 - val_loss: 0.0233\n",
      "Epoch 16/20\n",
      "9/9 [==============================] - 0s 10ms/step - loss: 0.0032 - val_loss: 0.0227\n",
      "Epoch 17/20\n",
      "9/9 [==============================] - 0s 10ms/step - loss: 0.0027 - val_loss: 0.0222\n",
      "Epoch 18/20\n",
      "9/9 [==============================] - 0s 10ms/step - loss: 0.0024 - val_loss: 0.0217\n",
      "Epoch 19/20\n",
      "9/9 [==============================] - 0s 10ms/step - loss: 0.0020 - val_loss: 0.0214\n",
      "Epoch 20/20\n",
      "9/9 [==============================] - 0s 10ms/step - loss: 0.0018 - val_loss: 0.0210\n",
      "2/2 [==============================] - 0s 8ms/step\n"
     ]
    }
   ],
   "source": [
    "lstm_model1, y_pred_lstm1 = lstm_func(X_train_lstm1,X_test_lstm1,y_train_lstm,y_test_lstm)"
   ]
  },
  {
   "cell_type": "code",
   "execution_count": 36,
   "id": "d88724b8",
   "metadata": {},
   "outputs": [],
   "source": [
    "mse_l1, rmse_l1, mae_l1, mape_l1, r2_l1 = calculate_loss_metrics(y_test_lstm, y_pred_lstm1)"
   ]
  },
  {
   "cell_type": "markdown",
   "id": "2f3ad802",
   "metadata": {},
   "source": [
    "### LSTM model 2"
   ]
  },
  {
   "cell_type": "code",
   "execution_count": 37,
   "id": "298b9681",
   "metadata": {},
   "outputs": [
    {
     "name": "stdout",
     "output_type": "stream",
     "text": [
      "Model: \"sequential_3\"\n",
      "_________________________________________________________________\n",
      " Layer (type)                Output Shape              Param #   \n",
      "=================================================================\n",
      " lstm_2 (LSTM)               (None, 50)                20200     \n",
      "                                                                 \n",
      " dense_2 (Dense)             (None, 1)                 51        \n",
      "                                                                 \n",
      "=================================================================\n",
      "Total params: 20,251\n",
      "Trainable params: 20,251\n",
      "Non-trainable params: 0\n",
      "_________________________________________________________________\n",
      "Epoch 1/20\n",
      "9/9 [==============================] - 1s 37ms/step - loss: 0.0950 - val_loss: 0.0258\n",
      "Epoch 2/20\n",
      "9/9 [==============================] - 0s 7ms/step - loss: 0.0177 - val_loss: 0.0354\n",
      "Epoch 3/20\n",
      "9/9 [==============================] - 0s 8ms/step - loss: 0.0187 - val_loss: 0.0207\n",
      "Epoch 4/20\n",
      "9/9 [==============================] - 0s 7ms/step - loss: 0.0145 - val_loss: 0.0214\n",
      "Epoch 5/20\n",
      "9/9 [==============================] - 0s 8ms/step - loss: 0.0137 - val_loss: 0.0199\n",
      "Epoch 6/20\n",
      "9/9 [==============================] - 0s 9ms/step - loss: 0.0128 - val_loss: 0.0210\n",
      "Epoch 7/20\n",
      "9/9 [==============================] - 0s 8ms/step - loss: 0.0124 - val_loss: 0.0195\n",
      "Epoch 8/20\n",
      "9/9 [==============================] - 0s 9ms/step - loss: 0.0122 - val_loss: 0.0194\n",
      "Epoch 9/20\n",
      "9/9 [==============================] - 0s 9ms/step - loss: 0.0120 - val_loss: 0.0192\n",
      "Epoch 10/20\n",
      "9/9 [==============================] - 0s 8ms/step - loss: 0.0116 - val_loss: 0.0190\n",
      "Epoch 11/20\n",
      "9/9 [==============================] - 0s 8ms/step - loss: 0.0113 - val_loss: 0.0187\n",
      "Epoch 12/20\n",
      "9/9 [==============================] - 0s 8ms/step - loss: 0.0109 - val_loss: 0.0184\n",
      "Epoch 13/20\n",
      "9/9 [==============================] - 0s 9ms/step - loss: 0.0107 - val_loss: 0.0182\n",
      "Epoch 14/20\n",
      "9/9 [==============================] - 0s 9ms/step - loss: 0.0104 - val_loss: 0.0179\n",
      "Epoch 15/20\n",
      "9/9 [==============================] - 0s 9ms/step - loss: 0.0101 - val_loss: 0.0176\n",
      "Epoch 16/20\n",
      "9/9 [==============================] - 0s 9ms/step - loss: 0.0100 - val_loss: 0.0173\n",
      "Epoch 17/20\n",
      "9/9 [==============================] - 0s 9ms/step - loss: 0.0099 - val_loss: 0.0170\n",
      "Epoch 18/20\n",
      "9/9 [==============================] - 0s 9ms/step - loss: 0.0091 - val_loss: 0.0169\n",
      "Epoch 19/20\n",
      "9/9 [==============================] - 0s 9ms/step - loss: 0.0089 - val_loss: 0.0164\n",
      "Epoch 20/20\n",
      "9/9 [==============================] - 0s 10ms/step - loss: 0.0086 - val_loss: 0.0161\n",
      "2/2 [==============================] - 0s 7ms/step\n"
     ]
    }
   ],
   "source": [
    "lstm_model2, y_pred_lstm2 = lstm_func(X_train_lstm2,X_test_lstm2,y_train_lstm,y_test_lstm)"
   ]
  },
  {
   "cell_type": "code",
   "execution_count": 38,
   "id": "b368ce7c",
   "metadata": {},
   "outputs": [],
   "source": [
    "mse_l2, rmse_l2, mae_l2, mape_l2, r2_l2 = calculate_loss_metrics(y_test_lstm, y_pred_lstm2)"
   ]
  },
  {
   "cell_type": "code",
   "execution_count": null,
   "id": "2340f822",
   "metadata": {},
   "outputs": [],
   "source": [
    "lstm_comp_df = pd.DataFrame({\"mse\":[mse_l1,mse_l2],\"rmse\":[rmse_l1,rmse_l2], \"mae\":[mae_l1,mae_l2], \"mape\":[mape_l1,mape_l2]})\n",
    "lstm_comp_df\n"
   ]
  },
  {
   "cell_type": "code",
   "execution_count": null,
   "id": "5298ee7e",
   "metadata": {},
   "outputs": [
    {
     "name": "stdout",
     "output_type": "stream",
     "text": [
      "LSTM model 2 > LSTM model 1\n"
     ]
    }
   ],
   "source": [
    "print(\"LSTM model 2 > LSTM model 1\")"
   ]
  },
  {
   "cell_type": "markdown",
   "id": "a676a39d",
   "metadata": {},
   "source": [
    "## Run classification models without OLS and LSTM additions"
   ]
  },
  {
   "cell_type": "markdown",
   "id": "46a56016",
   "metadata": {},
   "source": [
    "## Classification models"
   ]
  },
  {
   "cell_type": "markdown",
   "id": "99f1146c",
   "metadata": {},
   "source": [
    "### 1. Catboost ml model"
   ]
  },
  {
   "cell_type": "code",
   "execution_count": 83,
   "id": "6f91bdb1",
   "metadata": {},
   "outputs": [
    {
     "name": "stdout",
     "output_type": "stream",
     "text": [
      "0:\tlearn: 0.6258620\ttotal: 34.9ms\tremaining: 17.4s\n",
      "100:\tlearn: 0.0198192\ttotal: 775ms\tremaining: 3.06s\n",
      "200:\tlearn: 0.0052214\ttotal: 1.38s\tremaining: 2.06s\n",
      "300:\tlearn: 0.0029604\ttotal: 2.01s\tremaining: 1.33s\n",
      "400:\tlearn: 0.0022940\ttotal: 2.71s\tremaining: 670ms\n",
      "499:\tlearn: 0.0020729\ttotal: 3.42s\tremaining: 0us\n"
     ]
    }
   ],
   "source": [
    "model_cat, y_pred_cat = cat_boost_func(X_train_cat, X_test_cat, y_train_cat)\n"
   ]
  },
  {
   "cell_type": "code",
   "execution_count": 84,
   "id": "06509031",
   "metadata": {},
   "outputs": [
    {
     "name": "stdout",
     "output_type": "stream",
     "text": [
      "The cat Boost Mean Squared error is 0.038461538461538464\n"
     ]
    }
   ],
   "source": [
    "mse_cat, rmse_cat, mae_cat, mape_cat, r2_cat = calculate_loss_metrics(y_test_cat, y_pred_cat)\n",
    "print(f\"The cat Boost Mean Squared error is {mse_cat}\")"
   ]
  },
  {
   "cell_type": "code",
   "execution_count": 86,
   "id": "daa3cbef",
   "metadata": {},
   "outputs": [
    {
     "data": {
      "image/png": "[encoded data removed]",
      "text/plain": [
       "<Figure size 600x500 with 2 Axes>"
      ]
     },
     "metadata": {},
     "output_type": "display_data"
    }
   ],
   "source": [
    "plot_binary_confusion_matrix(y_test_cat, y_pred_cat, normalize=False)"
   ]
  },
  {
   "cell_type": "markdown",
   "id": "84e4d896",
   "metadata": {},
   "source": [
    "### 2. XGboost ml model"
   ]
  },
  {
   "cell_type": "code",
   "execution_count": 90,
   "id": "fe32be4c",
   "metadata": {},
   "outputs": [
    {
     "name": "stderr",
     "output_type": "stream",
     "text": [
      "c:\\Users\\tgsog\\anaconda3\\envs\\tf_env\\lib\\site-packages\\xgboost\\training.py:183: UserWarning: [19:00:20] WARNING: C:\\actions-runner\\_work\\xgboost\\xgboost\\src\\learner.cc:738: \n",
      "Parameters: { \"use_label_encoder\" } are not used.\n",
      "\n",
      "  bst.update(dtrain, iteration=i, fobj=obj)\n"
     ]
    }
   ],
   "source": [
    "model_xg, y_pred_xg = XG_boost_func(X_train_xg, X_test_xg,y_train_xg)"
   ]
  },
  {
   "cell_type": "code",
   "execution_count": 91,
   "id": "4752b31e",
   "metadata": {},
   "outputs": [
    {
     "name": "stdout",
     "output_type": "stream",
     "text": [
      "The XGboost Mean Squared error is 0.038461538461538464\n"
     ]
    }
   ],
   "source": [
    "mse_xg, rmse_xg, mae_xg, mape_xg, r2_xg = calculate_loss_metrics(y_test_xg, y_pred_xg)\n",
    "print(f\"The XGboost Mean Squared error is {mse_xg}\")"
   ]
  },
  {
   "cell_type": "code",
   "execution_count": 92,
   "id": "b4c95758",
   "metadata": {},
   "outputs": [
    {
     "data": {
      "image/png": "[encoded data removed]",
      "text/plain": [
       "<Figure size 600x500 with 2 Axes>"
      ]
     },
     "metadata": {},
     "output_type": "display_data"
    }
   ],
   "source": [
    "plot_binary_confusion_matrix(y_test_xg, y_pred_xg, normalize=False)"
   ]
  },
  {
   "cell_type": "markdown",
   "id": "f6785cb9",
   "metadata": {},
   "source": [
    "### 3. Gradient recurrent unit ml model"
   ]
  },
  {
   "cell_type": "code",
   "execution_count": 95,
   "id": "bbc7fcf6",
   "metadata": {},
   "outputs": [
    {
     "name": "stdout",
     "output_type": "stream",
     "text": [
      "Model: \"sequential_6\"\n",
      "_________________________________________________________________\n",
      " Layer (type)                Output Shape              Param #   \n",
      "=================================================================\n",
      " gru_1 (GRU)                 (None, 50)                15300     \n",
      "                                                                 \n",
      " dense_4 (Dense)             (None, 1)                 51        \n",
      "                                                                 \n",
      "=================================================================\n",
      "Total params: 15,351\n",
      "Trainable params: 15,351\n",
      "Non-trainable params: 0\n",
      "_________________________________________________________________\n",
      "Epoch 1/20\n",
      "9/9 [==============================] - 2s 52ms/step - loss: 0.6937 - accuracy: 0.5227 - val_loss: 0.6911 - val_accuracy: 0.5385\n",
      "Epoch 2/20\n",
      "9/9 [==============================] - 0s 9ms/step - loss: 0.6831 - accuracy: 0.5606 - val_loss: 0.6871 - val_accuracy: 0.5385\n",
      "Epoch 3/20\n",
      "9/9 [==============================] - 0s 9ms/step - loss: 0.6807 - accuracy: 0.5606 - val_loss: 0.6846 - val_accuracy: 0.5385\n",
      "Epoch 4/20\n",
      "9/9 [==============================] - 0s 9ms/step - loss: 0.6799 - accuracy: 0.5606 - val_loss: 0.6822 - val_accuracy: 0.5385\n",
      "Epoch 5/20\n",
      "9/9 [==============================] - 0s 10ms/step - loss: 0.6777 - accuracy: 0.5606 - val_loss: 0.6801 - val_accuracy: 0.5385\n",
      "Epoch 6/20\n",
      "9/9 [==============================] - 0s 10ms/step - loss: 0.6740 - accuracy: 0.5606 - val_loss: 0.6788 - val_accuracy: 0.5385\n",
      "Epoch 7/20\n",
      "9/9 [==============================] - 0s 9ms/step - loss: 0.6716 - accuracy: 0.5606 - val_loss: 0.6757 - val_accuracy: 0.5385\n",
      "Epoch 8/20\n",
      "9/9 [==============================] - 0s 9ms/step - loss: 0.6712 - accuracy: 0.5758 - val_loss: 0.6742 - val_accuracy: 0.5577\n",
      "Epoch 9/20\n",
      "9/9 [==============================] - 0s 10ms/step - loss: 0.6681 - accuracy: 0.5909 - val_loss: 0.6709 - val_accuracy: 0.5385\n",
      "Epoch 10/20\n",
      "9/9 [==============================] - 0s 10ms/step - loss: 0.6643 - accuracy: 0.5682 - val_loss: 0.6699 - val_accuracy: 0.5385\n",
      "Epoch 11/20\n",
      "9/9 [==============================] - 0s 10ms/step - loss: 0.6638 - accuracy: 0.5606 - val_loss: 0.6672 - val_accuracy: 0.5385\n",
      "Epoch 12/20\n",
      "9/9 [==============================] - 0s 10ms/step - loss: 0.6609 - accuracy: 0.5985 - val_loss: 0.6640 - val_accuracy: 0.6154\n",
      "Epoch 13/20\n",
      "9/9 [==============================] - 0s 9ms/step - loss: 0.6576 - accuracy: 0.6288 - val_loss: 0.6606 - val_accuracy: 0.5577\n",
      "Epoch 14/20\n",
      "9/9 [==============================] - 0s 10ms/step - loss: 0.6546 - accuracy: 0.5795 - val_loss: 0.6585 - val_accuracy: 0.5385\n",
      "Epoch 15/20\n",
      "9/9 [==============================] - 0s 10ms/step - loss: 0.6523 - accuracy: 0.6477 - val_loss: 0.6561 - val_accuracy: 0.6731\n",
      "Epoch 16/20\n",
      "9/9 [==============================] - 0s 9ms/step - loss: 0.6517 - accuracy: 0.6023 - val_loss: 0.6538 - val_accuracy: 0.5385\n",
      "Epoch 17/20\n",
      "9/9 [==============================] - 0s 9ms/step - loss: 0.6446 - accuracy: 0.6250 - val_loss: 0.6496 - val_accuracy: 0.6731\n",
      "Epoch 18/20\n",
      "9/9 [==============================] - 0s 9ms/step - loss: 0.6417 - accuracy: 0.6250 - val_loss: 0.6469 - val_accuracy: 0.6154\n",
      "Epoch 19/20\n",
      "9/9 [==============================] - 0s 10ms/step - loss: 0.6350 - accuracy: 0.6591 - val_loss: 0.6433 - val_accuracy: 0.7500\n",
      "Epoch 20/20\n",
      "9/9 [==============================] - 0s 10ms/step - loss: 0.6324 - accuracy: 0.7386 - val_loss: 0.6398 - val_accuracy: 0.7885\n",
      "WARNING:tensorflow:5 out of the last 9 calls to <function Model.make_predict_function.<locals>.predict_function at 0x000002423BF09360> triggered tf.function retracing. Tracing is expensive and the excessive number of tracings could be due to (1) creating @tf.function repeatedly in a loop, (2) passing tensors with different shapes, (3) passing Python objects instead of tensors. For (1), please define your @tf.function outside of the loop. For (2), @tf.function has reduce_retracing=True option that can avoid unnecessary retracing. For (3), please refer to https://www.tensorflow.org/guide/function#controlling_retracing and https://www.tensorflow.org/api_docs/python/tf/function for  more details.\n",
      "2/2 [==============================] - 0s 4ms/step\n"
     ]
    }
   ],
   "source": [
    "model_gru, y_pred_gru = gru_func(X_train_gru,X_test_gru,y_train_gru,y_test_gru)"
   ]
  },
  {
   "cell_type": "code",
   "execution_count": 96,
   "id": "6afe7a39",
   "metadata": {},
   "outputs": [
    {
     "name": "stdout",
     "output_type": "stream",
     "text": [
      "The Gradient recurrent unit Mean Squared error is 0.21153846153846154\n"
     ]
    }
   ],
   "source": [
    "mse_gru, rmse_gru, mae_gru, mape_gru, r2_gru = calculate_loss_metrics(y_test_gru, y_pred_gru)\n",
    "print(f\"The Gradient recurrent unit Mean Squared error is {mse_gru}\")"
   ]
  },
  {
   "cell_type": "code",
   "execution_count": 97,
   "id": "aae6f916",
   "metadata": {},
   "outputs": [
    {
     "data": {
      "image/png": "[encoded data removed]",
      "text/plain": [
       "<Figure size 600x500 with 2 Axes>"
      ]
     },
     "metadata": {},
     "output_type": "display_data"
    }
   ],
   "source": [
    "plot_binary_confusion_matrix(y_test_gru, y_pred_gru, normalize=False)"
   ]
  },
  {
   "cell_type": "markdown",
   "id": "7cf21a72",
   "metadata": {},
   "source": [
    "### 4. Naive bayes ml model"
   ]
  },
  {
   "cell_type": "code",
   "execution_count": 98,
   "id": "1f9e4539",
   "metadata": {},
   "outputs": [
    {
     "name": "stderr",
     "output_type": "stream",
     "text": [
      "c:\\Users\\tgsog\\anaconda3\\envs\\tf_env\\lib\\site-packages\\sklearn\\utils\\validation.py:1408: DataConversionWarning: A column-vector y was passed when a 1d array was expected. Please change the shape of y to (n_samples, ), for example using ravel().\n",
      "  y = column_or_1d(y, warn=True)\n"
     ]
    }
   ],
   "source": [
    "model_nb, y_pred_nb = naive_bayes_func(X_train_nb,X_test_nb,y_train_nb)"
   ]
  },
  {
   "cell_type": "code",
   "execution_count": 99,
   "id": "7fc9c106",
   "metadata": {},
   "outputs": [
    {
     "name": "stdout",
     "output_type": "stream",
     "text": [
      "The Gradient recurrent unit Mean Squared error is 0.4807692307692308\n"
     ]
    }
   ],
   "source": [
    "mse_nb, rmse_nb, mae_nb, mape_nb, r2_nb = calculate_loss_metrics(y_test_nb, y_pred_nb)\n",
    "print(f\"The Gradient recurrent unit Mean Squared error is {mse_nb}\")"
   ]
  },
  {
   "cell_type": "code",
   "execution_count": 100,
   "id": "504a974a",
   "metadata": {},
   "outputs": [
    {
     "data": {
      "image/png": "[encoded data removed]",
      "text/plain": [
       "<Figure size 600x500 with 2 Axes>"
      ]
     },
     "metadata": {},
     "output_type": "display_data"
    }
   ],
   "source": [
    "plot_binary_confusion_matrix(y_test_nb, y_pred_nb, normalize=False)"
   ]
  },
  {
   "cell_type": "markdown",
   "id": "d3099c7e",
   "metadata": {},
   "source": [
    "### 5. Compare models"
   ]
  },
  {
   "cell_type": "code",
   "execution_count": null,
   "id": "0ee5e011",
   "metadata": {},
   "outputs": [],
   "source": [
    "def classification_metrics_df(y_true, y_pred, average='binary'):\n",
    "    import pandas as pd\n",
    "    from sklearn.metrics import accuracy_score, precision_score, recall_score, f1_score\n",
    "    acc = accuracy_score(y_true, y_pred)\n",
    "    prec = precision_score(y_true, y_pred, average=average)\n",
    "    rec = recall_score(y_true, y_pred, average=average)\n",
    "    f1 = f1_score(y_true, y_pred, average=average)\n",
    "\n",
    "    df = pd.DataFrame({\n",
    "        'Accuracy': [acc],\n",
    "        'Precision': [prec],\n",
    "        'Recall': [rec],\n",
    "        'F1 Score': [f1]\n",
    "    })\n",
    "\n",
    "    return df"
   ]
  },
  {
   "cell_type": "code",
   "execution_count": 104,
   "id": "d18a2294",
   "metadata": {},
   "outputs": [
    {
     "data": {
      "application/vnd.microsoft.datawrangler.viewer.v0+json": {
       "columns": [
        {
         "name": "index",
         "rawType": "object",
         "type": "string"
        },
        {
         "name": "Accuracy",
         "rawType": "float64",
         "type": "float"
        },
        {
         "name": "Precision",
         "rawType": "float64",
         "type": "float"
        },
        {
         "name": "Recall",
         "rawType": "float64",
         "type": "float"
        },
        {
         "name": "F1 Score",
         "rawType": "float64",
         "type": "float"
        }
       ],
       "conversionMethod": "pd.DataFrame",
       "ref": "2aa7a262-5d28-406d-8dd6-51d20edb3de6",
       "rows": [
        [
         "CatBoost",
         "0.9615384615384616",
         "0.9333333333333333",
         "1.0",
         "0.9655172413793104"
        ],
        [
         "XGBoost",
         "0.9615384615384616",
         "0.9333333333333333",
         "1.0",
         "0.9655172413793104"
        ],
        [
         "GRU",
         "0.7884615384615384",
         "0.717948717948718",
         "1.0",
         "0.835820895522388"
        ],
        [
         "naive bayes",
         "0.5192307692307693",
         "0.5348837209302325",
         "0.8214285714285714",
         "0.647887323943662"
        ]
       ],
       "shape": {
        "columns": 4,
        "rows": 4
       }
      },
      "text/html": [
       "<div>\n",
       "<style scoped>\n",
       "    .dataframe tbody tr th:only-of-type {\n",
       "        vertical-align: middle;\n",
       "    }\n",
       "\n",
       "    .dataframe tbody tr th {\n",
       "        vertical-align: top;\n",
       "    }\n",
       "\n",
       "    .dataframe thead th {\n",
       "        text-align: right;\n",
       "    }\n",
       "</style>\n",
       "<table border=\"1\" class=\"dataframe\">\n",
       "  <thead>\n",
       "    <tr style=\"text-align: right;\">\n",
       "      <th></th>\n",
       "      <th>Accuracy</th>\n",
       "      <th>Precision</th>\n",
       "      <th>Recall</th>\n",
       "      <th>F1 Score</th>\n",
       "    </tr>\n",
       "  </thead>\n",
       "  <tbody>\n",
       "    <tr>\n",
       "      <th>CatBoost</th>\n",
       "      <td>0.961538</td>\n",
       "      <td>0.933333</td>\n",
       "      <td>1.000000</td>\n",
       "      <td>0.965517</td>\n",
       "    </tr>\n",
       "    <tr>\n",
       "      <th>XGBoost</th>\n",
       "      <td>0.961538</td>\n",
       "      <td>0.933333</td>\n",
       "      <td>1.000000</td>\n",
       "      <td>0.965517</td>\n",
       "    </tr>\n",
       "    <tr>\n",
       "      <th>GRU</th>\n",
       "      <td>0.788462</td>\n",
       "      <td>0.717949</td>\n",
       "      <td>1.000000</td>\n",
       "      <td>0.835821</td>\n",
       "    </tr>\n",
       "    <tr>\n",
       "      <th>naive bayes</th>\n",
       "      <td>0.519231</td>\n",
       "      <td>0.534884</td>\n",
       "      <td>0.821429</td>\n",
       "      <td>0.647887</td>\n",
       "    </tr>\n",
       "  </tbody>\n",
       "</table>\n",
       "</div>"
      ],
      "text/plain": [
       "             Accuracy  Precision    Recall  F1 Score\n",
       "CatBoost     0.961538   0.933333  1.000000  0.965517\n",
       "XGBoost      0.961538   0.933333  1.000000  0.965517\n",
       "GRU          0.788462   0.717949  1.000000  0.835821\n",
       "naive bayes  0.519231   0.534884  0.821429  0.647887"
      ]
     },
     "execution_count": 104,
     "metadata": {},
     "output_type": "execute_result"
    }
   ],
   "source": [
    "cat_eval = classification_metrics_df(y_test_cat, y_pred_cat)\n",
    "xg_eval =classification_metrics_df(y_test_xg, y_pred_xg)\n",
    "gru_eval =classification_metrics_df(y_test_gru, y_pred_gru)\n",
    "nb_eval =classification_metrics_df(y_test_nb, y_pred_nb)\n",
    "eval_df =pd.concat([cat_eval,xg_eval,gru_eval,nb_eval], axis = 0)\n",
    "eval_df.index = [\"CatBoost\",\"XGBoost\",\"GRU\",\"naive bayes\"]\n",
    "eval_df"
   ]
  },
  {
   "cell_type": "code",
   "execution_count": 105,
   "id": "0a56cb82",
   "metadata": {},
   "outputs": [
    {
     "name": "stdout",
     "output_type": "stream",
     "text": [
      "The best two models were XGBoost and CatBoost, with a accuracy of 96%\n"
     ]
    }
   ],
   "source": [
    "print(f\"The best two models were XGBoost and CatBoost, with a accuracy of 96%\")   "
   ]
  }
 ],
 "metadata": {
  "kernelspec": {
   "display_name": "tf_env",
   "language": "python",
   "name": "python3"
  },
  "language_info": {
   "codemirror_mode": {
    "name": "ipython",
    "version": 3
   },
   "file_extension": ".py",
   "mimetype": "text/x-python",
   "name": "python",
   "nbconvert_exporter": "python",
   "pygments_lexer": "ipython3",
   "version": "3.10.13"
  }
 },
 "nbformat": 4,
 "nbformat_minor": 5
}
