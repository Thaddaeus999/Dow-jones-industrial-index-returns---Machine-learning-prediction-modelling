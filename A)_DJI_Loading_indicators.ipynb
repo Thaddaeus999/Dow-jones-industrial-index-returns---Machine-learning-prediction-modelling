{
  "cells": [
    {
      "cell_type": "markdown",
      "id": "52285596-fef6-48b3-a5e1-b0df28767af7",
      "metadata": {
        "id": "52285596-fef6-48b3-a5e1-b0df28767af7"
      },
      "source": [
        "# A) DJI ML - Loading technical indicators"
      ]
    },
    {
      "cell_type": "markdown",
      "id": "f1e7d0f1-45c3-4b2d-ab7c-4dab904e39e4",
      "metadata": {
        "id": "f1e7d0f1-45c3-4b2d-ab7c-4dab904e39e4"
      },
      "source": [
        "## 1. Imports:"
      ]
    },
    {
      "cell_type": "code",
      "execution_count": 1,
      "id": "7a6403c1-fa27-4d9b-87a5-6645e1a8be6c",
      "metadata": {
        "id": "7a6403c1-fa27-4d9b-87a5-6645e1a8be6c"
      },
      "outputs": [],
      "source": [
        "import yfinance as yf\n",
        "import numpy as np\n",
        "import pandas as pd\n",
        "import time"
      ]
    },
    {
      "cell_type": "markdown",
      "id": "NjSBwxka29q_",
      "metadata": {
        "id": "NjSBwxka29q_"
      },
      "source": [
        "## 2. Creating stock retrieval functions:"
      ]
    },
    {
      "cell_type": "code",
      "execution_count": 2,
      "id": "MICC166R3A64",
      "metadata": {
        "id": "MICC166R3A64"
      },
      "outputs": [],
      "source": [
        "### Stock loading function ###\n",
        "def load_stocks(tickers, start_date, end_date):\n",
        "    stock_data_dict = {}\n",
        "\n",
        "    for ticker_symbol in tickers:\n",
        "        try:\n",
        "            ticker = yf.Ticker(ticker_symbol)\n",
        "\n",
        "            # Historical data, and columns\n",
        "            historical_data = ticker.history(start=start_date, end=end_date, interval='1d')[[\"High\", \"Low\", \"Close\", \"Volume\"]]\n",
        "            stock_data_dict[ticker_symbol] = historical_data\n",
        "\n",
        "            # Prevent blocking request\n",
        "            time.sleep(2)\n",
        "\n",
        "        except Exception as e:\n",
        "            print(f\"Error retrieving data for {ticker_symbol}: {e}\")\n",
        "\n",
        "    # Combine all stocks into one dataframe\n",
        "    if stock_data_dict:\n",
        "        all_stock_data = pd.concat(stock_data_dict, names=[\"Ticker\", \"Date\"])\n",
        "        all_stock_data = all_stock_data.reset_index()\n",
        "        return all_stock_data\n",
        "    else:\n",
        "        print(\" No data was retrieved.\")\n",
        "        return pd.DataFrame() \n",
        "\n",
        "### Non-stock loading function ###\n",
        "def load_non_stocks(tickers, start_date, end_date):\n",
        "    data_dict = {}\n",
        "\n",
        "    for ticker_symbol in tickers:\n",
        "        try:\n",
        "            ticker = yf.Ticker(ticker_symbol)\n",
        "            historical_data = ticker.history(start=start_date, end=end_date, interval='1d')[[\"High\", \"Low\", \"Close\"]]\n",
        "            data_dict[ticker_symbol] = historical_data\n",
        "\n",
        "        except Exception as e:\n",
        "            print(f\"Error retrieving data for {ticker_symbol}: {e}\")\n",
        "\n",
        "    all_stock_data = pd.concat(data_dict, names=[\"Ticker\", \"Date\"])\n",
        "    all_stock_data = all_stock_data.reset_index()\n",
        "    return all_stock_data\n",
        "\n",
        "def combine_files(df_x, df_y):\n",
        "    df = pd.concat([df_x, df_y])\n",
        "    return df\n"
      ]
    },
    {
      "cell_type": "markdown",
      "id": "36b061ef-8dc7-4ce2-a875-f6665b21a8e1",
      "metadata": {
        "id": "36b061ef-8dc7-4ce2-a875-f6665b21a8e1"
      },
      "source": [
        "## 3. Setting up tickers"
      ]
    },
    {
      "cell_type": "code",
      "execution_count": null,
      "id": "765ac0be-85f4-4b87-8494-583f22348ab9",
      "metadata": {
        "id": "765ac0be-85f4-4b87-8494-583f22348ab9",
        "scrolled": true
      },
      "outputs": [],
      "source": [
        "stock_tickers = [\"^DJI\", \"MMM\", \"AXP\", \"AMGN\", \"AMZN\", \"AAPL\", \"BA\", \"CAT\", \"CVX\", \"CSCO\",\n",
        "    \"KO\", \"DIS\", \"GS\", \"HD\", \"HON\", \"IBM\", \"JNJ\", \"JPM\", \"MCD\", \"MRK\",\n",
        "    \"MSFT\", \"NKE\", \"NVDA\", \"PG\", \"CRM\", \"SHW\", \"TRV\", \"UNH\", \"VZ\", \"V\", \"WMT\"]\n",
        "\n",
        "non_stock =[\n",
        "    \"CL=F\",   # WTI Crude Oil\n",
        "    \"BZ=F\",   # Brent Crude\n",
        "    \"NG=F\",   # Natural Gas\n",
        "\n",
        "    # Metals & Industrial Commodities\n",
        "    \"GC=F\",   # Gold\n",
        "    \"SI=F\",   # Silver\n",
        "    \"PL=F\",   # Platinum\n",
        "    \"PA=F\",   # Palladium\n",
        "    \"HG=F\",   # Copper\n",
        "\n",
        "    # Agricultural Commodities\n",
        "    \"ZC=F\",   # Corn\n",
        "    \"ZW=F\",   # Wheat\n",
        "    \"SB=F\",   # Sugar\n",
        "    \"CT=F\",   # Cotton\n",
        "    \"OJ=F\",   # Orange Juice\n",
        "\n",
        "    # Foreign Exchange Rates\n",
        "    \"EURUSD=X\",  # Euro to USD\n",
        "    \"GBPUSD=X\",  # British Pound to USD\n",
        "    \"USDJPY=X\",  # US Dollar to Japanese Yen\n",
        "    \"USDCAD=X\",  # US Dollar to Canadian Dollar\n",
        "    \"AUDUSD=X\",  # Australian Dollar to USD\n",
        "    \"USDCHF=X\",  # US Dollar to Swiss Franc\n",
        "    \"NZDUSD=X\",  # New Zealand Dollar to USD\n",
        "    \"USDINR=X\",  # US Dollar to Indian Rupee\n",
        "    \"USDMXN=X\",  # US Dollar to Mexican Peso\n",
        "    \"USDCNY=X\",  # US Dollar to Chinese Yuan\n",
        "    \"USDBRL=X\",  # US Dollar to Brazilian Real\n",
        "\n",
        "    # Interest Rates & Market Indicators\n",
        "    \"^TNX\",   # US 10-Year Treasury Yield\n",
        "    \"^TYX\",   # US 30-Year Treasury Yield\n",
        "    \"^FVX\",   # US 5-Year Treasury Yield\n",
        "    \"^IRX\",   # US Federal Funds Rate\n",
        "    \"^VIX\"    # Volatility Index\n",
        "]\n",
        "\n",
        "#DXY pool of currencies - against the dollar\n",
        "#THe way they weight is how much curencies are traded\n",
        "#if you do better weighting?? In bloomberg you have weight DXY Pedro will give ticker\n",
        "#carry trade = borrow currcny with lower interest, turin into USD  -> put into stocks or risky assets that will preforme better than japaneese yields\n",
        "#this is called borrowing funding currencies, it allows you to fund you opperations elswhere\n",
        "#VIX - skew of vollatility SPX goes down - it goes down really bad (it increases by just a couple % every year, however when it goes down it it goes down alot), every time the VIX goes up the stock goes down because the\n",
        "\n"
      ]
    },
    {
      "cell_type": "markdown",
      "id": "31f21bdf-e0ec-48b0-901c-b8c0f59689a9",
      "metadata": {
        "id": "31f21bdf-e0ec-48b0-901c-b8c0f59689a9"
      },
      "source": [
        "## 4. Loading data:"
      ]
    },
    {
      "cell_type": "markdown",
      "id": "ed41bc29",
      "metadata": {},
      "source": [
        "### 4.1 Loading stock data:"
      ]
    },
    {
      "cell_type": "code",
      "execution_count": 4,
      "id": "f23792ca-ec4b-4d2f-bcc4-d6bfdc71e588",
      "metadata": {
        "colab": {
          "base_uri": "https://localhost:8080/",
          "height": 423
        },
        "id": "f23792ca-ec4b-4d2f-bcc4-d6bfdc71e588",
        "outputId": "f7600ca6-d06f-4032-e679-f1f8d62a2b16"
      },
      "outputs": [],
      "source": [
        "df = load_stocks(stock_tickers,\"2023-03-11\",\"2025-03-11\")"
      ]
    },
    {
      "cell_type": "markdown",
      "id": "cdf03250",
      "metadata": {},
      "source": [
        "### 4.2 Loading Non-stock data:"
      ]
    },
    {
      "cell_type": "code",
      "execution_count": 5,
      "id": "0099f28c-eeb5-4268-abf8-484f3638adee",
      "metadata": {
        "id": "0099f28c-eeb5-4268-abf8-484f3638adee"
      },
      "outputs": [],
      "source": [
        "df_non =load_non_stocks(non_stock,\"2023-03-11\",\"2025-03-11\")"
      ]
    },
    {
      "cell_type": "markdown",
      "id": "740b1404",
      "metadata": {},
      "source": [
        "### 4.3 Saving Stock and non-stock data:"
      ]
    },
    {
      "cell_type": "code",
      "execution_count": 6,
      "id": "da5d2f76",
      "metadata": {},
      "outputs": [],
      "source": [
        "base_path=\"C:\\\\Users\\\\tgsog\\\\OneDrive\\\\Desktop\\\\DowJones_ML_project\\\\DataFiles\\\\A) Loading indicators stock data\\\\\""
      ]
    },
    {
      "cell_type": "code",
      "execution_count": 7,
      "id": "sSN6aSAy7Im1",
      "metadata": {
        "id": "sSN6aSAy7Im1"
      },
      "outputs": [],
      "source": [
        "df.to_csv(base_path+\"stock_raw_data_fin.csv\", index=False)\n",
        "df_non.to_csv(base_path+\"coms_raw_data_fin.csv\", index=False)"
      ]
    },
    {
      "cell_type": "code",
      "execution_count": 8,
      "id": "4df6bb64",
      "metadata": {},
      "outputs": [
        {
          "data": {
            "application/vnd.microsoft.datawrangler.viewer.v0+json": {
              "columns": [
                {
                  "name": "index",
                  "rawType": "int64",
                  "type": "integer"
                },
                {
                  "name": "Ticker",
                  "rawType": "object",
                  "type": "string"
                },
                {
                  "name": "Date",
                  "rawType": "datetime64[ns, America/New_York]",
                  "type": "unknown"
                },
                {
                  "name": "High",
                  "rawType": "float64",
                  "type": "float"
                },
                {
                  "name": "Low",
                  "rawType": "float64",
                  "type": "float"
                },
                {
                  "name": "Close",
                  "rawType": "float64",
                  "type": "float"
                },
                {
                  "name": "Volume",
                  "rawType": "int64",
                  "type": "integer"
                }
              ],
              "conversionMethod": "pd.DataFrame",
              "ref": "944d1370-8614-41f9-ac59-d9b3eb294e5f",
              "rows": [
                [
                  "0",
                  "^DJI",
                  "2023-03-13 00:00:00-04:00",
                  "32240.349609375",
                  "31624.869140625",
                  "31819.140625",
                  "429090000"
                ],
                [
                  "1",
                  "^DJI",
                  "2023-03-14 00:00:00-04:00",
                  "32306.58984375",
                  "31805.400390625",
                  "32155.400390625",
                  "391760000"
                ],
                [
                  "2",
                  "^DJI",
                  "2023-03-15 00:00:00-04:00",
                  "31906.470703125",
                  "31429.8203125",
                  "31874.5703125",
                  "420910000"
                ],
                [
                  "3",
                  "^DJI",
                  "2023-03-16 00:00:00-04:00",
                  "32281.609375",
                  "31571.4609375",
                  "32246.55078125",
                  "440940000"
                ],
                [
                  "4",
                  "^DJI",
                  "2023-03-17 00:00:00-04:00",
                  "32217.3203125",
                  "31728.69921875",
                  "31861.98046875",
                  "712100000"
                ],
                [
                  "5",
                  "^DJI",
                  "2023-03-20 00:00:00-04:00",
                  "32280.0703125",
                  "31872.330078125",
                  "32244.580078125",
                  "357210000"
                ],
                [
                  "6",
                  "^DJI",
                  "2023-03-21 00:00:00-04:00",
                  "32593.6796875",
                  "32346.119140625",
                  "32560.599609375",
                  "363190000"
                ],
                [
                  "7",
                  "^DJI",
                  "2023-03-22 00:00:00-04:00",
                  "32761.890625",
                  "32020.4609375",
                  "32030.109375",
                  "325990000"
                ],
                [
                  "8",
                  "^DJI",
                  "2023-03-23 00:00:00-04:00",
                  "32511.490234375",
                  "31864.740234375",
                  "32105.25",
                  "335430000"
                ],
                [
                  "9",
                  "^DJI",
                  "2023-03-24 00:00:00-04:00",
                  "32257.240234375",
                  "31805.1796875",
                  "32237.529296875",
                  "317070000"
                ],
                [
                  "10",
                  "^DJI",
                  "2023-03-27 00:00:00-04:00",
                  "32564.0",
                  "32276.720703125",
                  "32432.080078125",
                  "291560000"
                ],
                [
                  "11",
                  "^DJI",
                  "2023-03-28 00:00:00-04:00",
                  "32551.009765625",
                  "32295.5",
                  "32394.25",
                  "248560000"
                ],
                [
                  "12",
                  "^DJI",
                  "2023-03-29 00:00:00-04:00",
                  "32728.0390625",
                  "32539.939453125",
                  "32717.599609375",
                  "314110000"
                ],
                [
                  "13",
                  "^DJI",
                  "2023-03-30 00:00:00-04:00",
                  "32905.80078125",
                  "32682.869140625",
                  "32859.03125",
                  "283380000"
                ],
                [
                  "14",
                  "^DJI",
                  "2023-03-31 00:00:00-04:00",
                  "33291.0",
                  "32901.9609375",
                  "33274.1484375",
                  "353740000"
                ],
                [
                  "15",
                  "^DJI",
                  "2023-04-03 00:00:00-04:00",
                  "33632.8984375",
                  "33245.78125",
                  "33601.1484375",
                  "311890000"
                ],
                [
                  "16",
                  "^DJI",
                  "2023-04-04 00:00:00-04:00",
                  "33634.71875",
                  "33275.62109375",
                  "33402.37890625",
                  "283360000"
                ],
                [
                  "17",
                  "^DJI",
                  "2023-04-05 00:00:00-04:00",
                  "33543.83984375",
                  "33376.26953125",
                  "33482.71875",
                  "286660000"
                ],
                [
                  "18",
                  "^DJI",
                  "2023-04-06 00:00:00-04:00",
                  "33525.9609375",
                  "33325.37109375",
                  "33485.2890625",
                  "258680000"
                ],
                [
                  "19",
                  "^DJI",
                  "2023-04-10 00:00:00-04:00",
                  "33590.23828125",
                  "33343.4296875",
                  "33586.51953125",
                  "232920000"
                ],
                [
                  "20",
                  "^DJI",
                  "2023-04-11 00:00:00-04:00",
                  "33781.2890625",
                  "33586.75",
                  "33684.7890625",
                  "241430000"
                ],
                [
                  "21",
                  "^DJI",
                  "2023-04-12 00:00:00-04:00",
                  "33895.4296875",
                  "33593.3203125",
                  "33646.5",
                  "260300000"
                ],
                [
                  "22",
                  "^DJI",
                  "2023-04-13 00:00:00-04:00",
                  "34054.98828125",
                  "33605.171875",
                  "34029.69140625",
                  "277230000"
                ],
                [
                  "23",
                  "^DJI",
                  "2023-04-14 00:00:00-04:00",
                  "34082.94140625",
                  "33730.8515625",
                  "33886.46875",
                  "276720000"
                ],
                [
                  "24",
                  "^DJI",
                  "2023-04-17 00:00:00-04:00",
                  "33991.23046875",
                  "33796.91015625",
                  "33987.1796875",
                  "234530000"
                ],
                [
                  "25",
                  "^DJI",
                  "2023-04-18 00:00:00-04:00",
                  "34018.62109375",
                  "33791.890625",
                  "33976.62890625",
                  "253570000"
                ],
                [
                  "26",
                  "^DJI",
                  "2023-04-19 00:00:00-04:00",
                  "33957.98046875",
                  "33814.6484375",
                  "33897.01171875",
                  "251490000"
                ],
                [
                  "27",
                  "^DJI",
                  "2023-04-20 00:00:00-04:00",
                  "33875.390625",
                  "33677.73828125",
                  "33786.62109375",
                  "307910000"
                ],
                [
                  "28",
                  "^DJI",
                  "2023-04-21 00:00:00-04:00",
                  "33858.828125",
                  "33688.5703125",
                  "33808.9609375",
                  "291080000"
                ],
                [
                  "29",
                  "^DJI",
                  "2023-04-24 00:00:00-04:00",
                  "33891.1484375",
                  "33726.08984375",
                  "33875.3984375",
                  "252020000"
                ],
                [
                  "30",
                  "^DJI",
                  "2023-04-25 00:00:00-04:00",
                  "33875.48828125",
                  "33525.390625",
                  "33530.828125",
                  "297880000"
                ],
                [
                  "31",
                  "^DJI",
                  "2023-04-26 00:00:00-04:00",
                  "33645.828125",
                  "33235.8515625",
                  "33301.87109375",
                  "321170000"
                ],
                [
                  "32",
                  "^DJI",
                  "2023-04-27 00:00:00-04:00",
                  "33859.75",
                  "33374.6484375",
                  "33826.16015625",
                  "343240000"
                ],
                [
                  "33",
                  "^DJI",
                  "2023-04-28 00:00:00-04:00",
                  "34104.55859375",
                  "33728.3984375",
                  "34098.16015625",
                  "354310000"
                ],
                [
                  "34",
                  "^DJI",
                  "2023-05-01 00:00:00-04:00",
                  "34257.828125",
                  "34030.140625",
                  "34051.69921875",
                  "244190000"
                ],
                [
                  "35",
                  "^DJI",
                  "2023-05-02 00:00:00-04:00",
                  "34017.75",
                  "33436.66015625",
                  "33684.53125",
                  "274460000"
                ],
                [
                  "36",
                  "^DJI",
                  "2023-05-03 00:00:00-04:00",
                  "33811.83984375",
                  "33396.05078125",
                  "33414.23828125",
                  "286900000"
                ],
                [
                  "37",
                  "^DJI",
                  "2023-05-04 00:00:00-04:00",
                  "33354.859375",
                  "32937.5",
                  "33127.73828125",
                  "305160000"
                ],
                [
                  "38",
                  "^DJI",
                  "2023-05-05 00:00:00-04:00",
                  "33748.4296875",
                  "33248.55078125",
                  "33674.37890625",
                  "316350000"
                ],
                [
                  "39",
                  "^DJI",
                  "2023-05-08 00:00:00-04:00",
                  "33747.48828125",
                  "33509.23046875",
                  "33618.69140625",
                  "225680000"
                ],
                [
                  "40",
                  "^DJI",
                  "2023-05-09 00:00:00-04:00",
                  "33656.3984375",
                  "33509.71875",
                  "33561.80859375",
                  "232940000"
                ],
                [
                  "41",
                  "^DJI",
                  "2023-05-10 00:00:00-04:00",
                  "33772.08984375",
                  "33239.44921875",
                  "33531.328125",
                  "271180000"
                ],
                [
                  "42",
                  "^DJI",
                  "2023-05-11 00:00:00-04:00",
                  "33389.87890625",
                  "33127.69921875",
                  "33309.51171875",
                  "298000000"
                ],
                [
                  "43",
                  "^DJI",
                  "2023-05-12 00:00:00-04:00",
                  "33406.3984375",
                  "33110.609375",
                  "33300.62109375",
                  "227570000"
                ],
                [
                  "44",
                  "^DJI",
                  "2023-05-15 00:00:00-04:00",
                  "33400.30078125",
                  "33161.9296875",
                  "33348.6015625",
                  "224020000"
                ],
                [
                  "45",
                  "^DJI",
                  "2023-05-16 00:00:00-04:00",
                  "33290.8515625",
                  "33006.19140625",
                  "33012.140625",
                  "246680000"
                ],
                [
                  "46",
                  "^DJI",
                  "2023-05-17 00:00:00-04:00",
                  "33472.37890625",
                  "33050.41015625",
                  "33420.76953125",
                  "307130000"
                ],
                [
                  "47",
                  "^DJI",
                  "2023-05-18 00:00:00-04:00",
                  "33579.91015625",
                  "33212.08984375",
                  "33535.91015625",
                  "333070000"
                ],
                [
                  "48",
                  "^DJI",
                  "2023-05-19 00:00:00-04:00",
                  "33652.8984375",
                  "33336.66015625",
                  "33426.62890625",
                  "315210000"
                ],
                [
                  "49",
                  "^DJI",
                  "2023-05-22 00:00:00-04:00",
                  "33512.30078125",
                  "33207.8515625",
                  "33286.578125",
                  "268900000"
                ]
              ],
              "shape": {
                "columns": 6,
                "rows": 15500
              }
            },
            "text/html": [
              "<div>\n",
              "<style scoped>\n",
              "    .dataframe tbody tr th:only-of-type {\n",
              "        vertical-align: middle;\n",
              "    }\n",
              "\n",
              "    .dataframe tbody tr th {\n",
              "        vertical-align: top;\n",
              "    }\n",
              "\n",
              "    .dataframe thead th {\n",
              "        text-align: right;\n",
              "    }\n",
              "</style>\n",
              "<table border=\"1\" class=\"dataframe\">\n",
              "  <thead>\n",
              "    <tr style=\"text-align: right;\">\n",
              "      <th></th>\n",
              "      <th>Ticker</th>\n",
              "      <th>Date</th>\n",
              "      <th>High</th>\n",
              "      <th>Low</th>\n",
              "      <th>Close</th>\n",
              "      <th>Volume</th>\n",
              "    </tr>\n",
              "  </thead>\n",
              "  <tbody>\n",
              "    <tr>\n",
              "      <th>0</th>\n",
              "      <td>^DJI</td>\n",
              "      <td>2023-03-13 00:00:00-04:00</td>\n",
              "      <td>32240.349609</td>\n",
              "      <td>31624.869141</td>\n",
              "      <td>31819.140625</td>\n",
              "      <td>429090000</td>\n",
              "    </tr>\n",
              "    <tr>\n",
              "      <th>1</th>\n",
              "      <td>^DJI</td>\n",
              "      <td>2023-03-14 00:00:00-04:00</td>\n",
              "      <td>32306.589844</td>\n",
              "      <td>31805.400391</td>\n",
              "      <td>32155.400391</td>\n",
              "      <td>391760000</td>\n",
              "    </tr>\n",
              "    <tr>\n",
              "      <th>2</th>\n",
              "      <td>^DJI</td>\n",
              "      <td>2023-03-15 00:00:00-04:00</td>\n",
              "      <td>31906.470703</td>\n",
              "      <td>31429.820312</td>\n",
              "      <td>31874.570312</td>\n",
              "      <td>420910000</td>\n",
              "    </tr>\n",
              "    <tr>\n",
              "      <th>3</th>\n",
              "      <td>^DJI</td>\n",
              "      <td>2023-03-16 00:00:00-04:00</td>\n",
              "      <td>32281.609375</td>\n",
              "      <td>31571.460938</td>\n",
              "      <td>32246.550781</td>\n",
              "      <td>440940000</td>\n",
              "    </tr>\n",
              "    <tr>\n",
              "      <th>4</th>\n",
              "      <td>^DJI</td>\n",
              "      <td>2023-03-17 00:00:00-04:00</td>\n",
              "      <td>32217.320312</td>\n",
              "      <td>31728.699219</td>\n",
              "      <td>31861.980469</td>\n",
              "      <td>712100000</td>\n",
              "    </tr>\n",
              "    <tr>\n",
              "      <th>...</th>\n",
              "      <td>...</td>\n",
              "      <td>...</td>\n",
              "      <td>...</td>\n",
              "      <td>...</td>\n",
              "      <td>...</td>\n",
              "      <td>...</td>\n",
              "    </tr>\n",
              "    <tr>\n",
              "      <th>15495</th>\n",
              "      <td>WMT</td>\n",
              "      <td>2025-03-04 00:00:00-05:00</td>\n",
              "      <td>96.784221</td>\n",
              "      <td>94.201310</td>\n",
              "      <td>94.709915</td>\n",
              "      <td>25227700</td>\n",
              "    </tr>\n",
              "    <tr>\n",
              "      <th>15496</th>\n",
              "      <td>WMT</td>\n",
              "      <td>2025-03-05 00:00:00-05:00</td>\n",
              "      <td>96.126029</td>\n",
              "      <td>94.490521</td>\n",
              "      <td>95.717155</td>\n",
              "      <td>17639000</td>\n",
              "    </tr>\n",
              "    <tr>\n",
              "      <th>15497</th>\n",
              "      <td>WMT</td>\n",
              "      <td>2025-03-06 00:00:00-05:00</td>\n",
              "      <td>95.926579</td>\n",
              "      <td>93.922082</td>\n",
              "      <td>94.380821</td>\n",
              "      <td>19957800</td>\n",
              "    </tr>\n",
              "    <tr>\n",
              "      <th>15498</th>\n",
              "      <td>WMT</td>\n",
              "      <td>2025-03-07 00:00:00-05:00</td>\n",
              "      <td>93.692707</td>\n",
              "      <td>90.511449</td>\n",
              "      <td>91.468819</td>\n",
              "      <td>35913200</td>\n",
              "    </tr>\n",
              "    <tr>\n",
              "      <th>15499</th>\n",
              "      <td>WMT</td>\n",
              "      <td>2025-03-10 00:00:00-04:00</td>\n",
              "      <td>89.982902</td>\n",
              "      <td>86.372813</td>\n",
              "      <td>87.579498</td>\n",
              "      <td>35148800</td>\n",
              "    </tr>\n",
              "  </tbody>\n",
              "</table>\n",
              "<p>15500 rows × 6 columns</p>\n",
              "</div>"
            ],
            "text/plain": [
              "      Ticker                      Date          High           Low  \\\n",
              "0       ^DJI 2023-03-13 00:00:00-04:00  32240.349609  31624.869141   \n",
              "1       ^DJI 2023-03-14 00:00:00-04:00  32306.589844  31805.400391   \n",
              "2       ^DJI 2023-03-15 00:00:00-04:00  31906.470703  31429.820312   \n",
              "3       ^DJI 2023-03-16 00:00:00-04:00  32281.609375  31571.460938   \n",
              "4       ^DJI 2023-03-17 00:00:00-04:00  32217.320312  31728.699219   \n",
              "...      ...                       ...           ...           ...   \n",
              "15495    WMT 2025-03-04 00:00:00-05:00     96.784221     94.201310   \n",
              "15496    WMT 2025-03-05 00:00:00-05:00     96.126029     94.490521   \n",
              "15497    WMT 2025-03-06 00:00:00-05:00     95.926579     93.922082   \n",
              "15498    WMT 2025-03-07 00:00:00-05:00     93.692707     90.511449   \n",
              "15499    WMT 2025-03-10 00:00:00-04:00     89.982902     86.372813   \n",
              "\n",
              "              Close     Volume  \n",
              "0      31819.140625  429090000  \n",
              "1      32155.400391  391760000  \n",
              "2      31874.570312  420910000  \n",
              "3      32246.550781  440940000  \n",
              "4      31861.980469  712100000  \n",
              "...             ...        ...  \n",
              "15495     94.709915   25227700  \n",
              "15496     95.717155   17639000  \n",
              "15497     94.380821   19957800  \n",
              "15498     91.468819   35913200  \n",
              "15499     87.579498   35148800  \n",
              "\n",
              "[15500 rows x 6 columns]"
            ]
          },
          "execution_count": 8,
          "metadata": {},
          "output_type": "execute_result"
        }
      ],
      "source": [
        "df"
      ]
    }
  ],
  "metadata": {
    "colab": {
      "provenance": []
    },
    "kernelspec": {
      "display_name": "tf_env",
      "language": "python",
      "name": "python3"
    },
    "language_info": {
      "codemirror_mode": {
        "name": "ipython",
        "version": 3
      },
      "file_extension": ".py",
      "mimetype": "text/x-python",
      "name": "python",
      "nbconvert_exporter": "python",
      "pygments_lexer": "ipython3",
      "version": "3.10.13"
    }
  },
  "nbformat": 4,
  "nbformat_minor": 5
}
